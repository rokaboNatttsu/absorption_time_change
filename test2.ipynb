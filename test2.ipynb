{
 "cells": [
  {
   "cell_type": "code",
   "execution_count": null,
   "metadata": {},
   "outputs": [],
   "source": [
    "#   動的計画法で解いた密度変化を、偏微分方程式で解くバージョンで作りたい\n",
    "#   連立微分方程式をMCMCに持ち込めないか？\n",
    "#   観測データと称する「状態の数密度の時間変化」に対して連立微分方程式を含むPyMC3のモデルで作って、推定するようにしたい\n",
    "#   グラフ構造だけ入力すると定数を勝手に作って方程式を立てて推定するようにしたい\n",
    "\n",
    "#   分裂だけでなく結合もする光化学反応に対応できるようにしたい"
   ]
  }
 ],
 "metadata": {
  "interpreter": {
   "hash": "1d79d47b9e09916282e80d76f5dda9787d541e37fc5360372eab0d1a1f7e05d3"
  },
  "kernelspec": {
   "display_name": "Python 3.10.4 64-bit (system)",
   "language": "python",
   "name": "python3"
  },
  "language_info": {
   "name": "python",
   "version": "3.10.4"
  },
  "orig_nbformat": 4
 },
 "nbformat": 4,
 "nbformat_minor": 2
}
